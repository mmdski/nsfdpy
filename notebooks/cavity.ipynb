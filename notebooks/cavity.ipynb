{
 "cells": [
  {
   "cell_type": "code",
   "execution_count": 1,
   "metadata": {},
   "outputs": [],
   "source": [
    "from nsfd.uvp import *\n",
    "from nsfd.boundary import *\n",
    "from nsfd.typing import BCondition\n",
    "\n",
    "\n",
    "imax = 128\n",
    "jmax = 128\n",
    "xlength = 1.0\n",
    "ylength = 1.0\n",
    "delt = 0.02\n",
    "tau = 0.5\n",
    "eps = 0.001\n",
    "omg = 1.7\n",
    "gamma = 0.9\n",
    "itermax = 100\n",
    "GX = 0.0\n",
    "GY = 0.0\n",
    "Re = 1000\n",
    "UI = 0.0\n",
    "VI = 0.0\n",
    "PI = 0.0\n",
    "wW = BCondition.NO_SLIP\n",
    "wE = BCondition.NO_SLIP\n",
    "wS = BCondition.NO_SLIP\n",
    "wN = BCondition.NONE\n",
    "\n",
    "u_lid = 1.0\n",
    "\n",
    "delx = xlength / imax\n",
    "dely = ylength / jmax\n",
    "\n",
    "u, v, p = init_uvp(imax, jmax, UI, VI, PI)\n",
    "\n",
    "# time step\n",
    "set_b_cond(u, v, imax, jmax, wW, wE, wN, wS)\n",
    "u[:, jmax + 1] = 2.0 * u_lid - u[:, jmax]\n",
    "v[:, jmax + 1] = 0\n",
    "\n",
    "F = np.zeros_like(u)\n",
    "G = np.zeros_like(u)\n",
    "RHS = np.zeros_like(u)\n",
    "res = np.zeros_like(RHS)\n"
   ]
  },
  {
   "cell_type": "code",
   "execution_count": 2,
   "metadata": {},
   "outputs": [],
   "source": [
    "comp_fg(u, v, F, G, imax, jmax, delt, delx, dely, GX, GY, gamma, Re)"
   ]
  },
  {
   "cell_type": "code",
   "execution_count": 3,
   "metadata": {},
   "outputs": [],
   "source": [
    "# F[imax,jmax] = F[imax-1,jmax]"
   ]
  },
  {
   "cell_type": "code",
   "execution_count": 4,
   "metadata": {},
   "outputs": [
    {
     "data": {
      "text/plain": [
       "array([[    0.   ,     0.   ,     0.   , ...,     0.   ,  4194.304,\n",
       "            0.   ],\n",
       "       [    0.   ,     0.   ,     0.   , ...,     0.   ,  4194.304,\n",
       "            0.   ],\n",
       "       [    0.   ,     0.   ,     0.   , ...,     0.   ,  4194.304,\n",
       "            0.   ],\n",
       "       ...,\n",
       "       [    0.   ,     0.   ,     0.   , ...,     0.   ,  4194.304,\n",
       "            0.   ],\n",
       "       [   -0.   ,     0.   ,     0.   , ...,     0.   ,     0.   ,\n",
       "        12800.   ],\n",
       "       [    0.   ,     0.   ,     0.   , ...,     0.   ,     0.   ,\n",
       "            0.   ]])"
      ]
     },
     "execution_count": 4,
     "metadata": {},
     "output_type": "execute_result"
    }
   ],
   "source": [
    "1/delt*(F[1:,:] - F[-1:,:])/delx"
   ]
  },
  {
   "cell_type": "code",
   "execution_count": 5,
   "metadata": {},
   "outputs": [],
   "source": [
    "comp_rhs(F, G, RHS, imax, jmax, delt, delx, dely)"
   ]
  },
  {
   "cell_type": "code",
   "execution_count": 6,
   "metadata": {},
   "outputs": [
    {
     "data": {
      "text/plain": [
       "array([[0., 0., 0., ..., 0., 0., 0.],\n",
       "       [0., 0., 0., ..., 0., 0., 0.],\n",
       "       [0., 0., 0., ..., 0., 0., 0.],\n",
       "       ...,\n",
       "       [0., 0., 0., ..., 0., 0., 0.],\n",
       "       [0., 0., 0., ..., 0., 0., 0.],\n",
       "       [0., 0., 0., ..., 0., 0., 0.]])"
      ]
     },
     "execution_count": 6,
     "metadata": {},
     "output_type": "execute_result"
    }
   ],
   "source": [
    "RHS[:,:-2]"
   ]
  },
  {
   "cell_type": "code",
   "execution_count": 7,
   "metadata": {},
   "outputs": [],
   "source": [
    "it, res_norm = poisson(p, RHS, imax, jmax, delx, dely, eps, itermax, omg, res)"
   ]
  },
  {
   "cell_type": "code",
   "execution_count": 8,
   "metadata": {},
   "outputs": [
    {
     "data": {
      "text/plain": [
       "21.861121806567553"
      ]
     },
     "execution_count": 8,
     "metadata": {},
     "output_type": "execute_result"
    }
   ],
   "source": [
    "res_norm"
   ]
  },
  {
   "cell_type": "code",
   "execution_count": 15,
   "metadata": {},
   "outputs": [
    {
     "data": {
      "text/plain": [
       "array([    0.   ,  4194.304,     0.   ,     0.   ,     0.   ,     0.   ,\n",
       "           0.   ,     0.   ,     0.   ,     0.   ,     0.   ,     0.   ,\n",
       "           0.   ,     0.   ,     0.   ,     0.   ,     0.   ,     0.   ,\n",
       "           0.   ,     0.   ,     0.   ,     0.   ,     0.   ,     0.   ,\n",
       "           0.   ,     0.   ,     0.   ,     0.   ,     0.   ,     0.   ,\n",
       "           0.   ,     0.   ,     0.   ,     0.   ,     0.   ,     0.   ,\n",
       "           0.   ,     0.   ,     0.   ,     0.   ,     0.   ,     0.   ,\n",
       "           0.   ,     0.   ,     0.   ,     0.   ,     0.   ,     0.   ,\n",
       "           0.   ,     0.   ,     0.   ,     0.   ,     0.   ,     0.   ,\n",
       "           0.   ,     0.   ,     0.   ,     0.   ,     0.   ,     0.   ,\n",
       "           0.   ,     0.   ,     0.   ,     0.   ,     0.   ,     0.   ,\n",
       "           0.   ,     0.   ,     0.   ,     0.   ,     0.   ,     0.   ,\n",
       "           0.   ,     0.   ,     0.   ,     0.   ,     0.   ,     0.   ,\n",
       "           0.   ,     0.   ,     0.   ,     0.   ,     0.   ,     0.   ,\n",
       "           0.   ,     0.   ,     0.   ,     0.   ,     0.   ,     0.   ,\n",
       "           0.   ,     0.   ,     0.   ,     0.   ,     0.   ,     0.   ,\n",
       "           0.   ,     0.   ,     0.   ,     0.   ,     0.   ,     0.   ,\n",
       "           0.   ,     0.   ,     0.   ,     0.   ,     0.   ,     0.   ,\n",
       "           0.   ,     0.   ,     0.   ,     0.   ,     0.   ,     0.   ,\n",
       "           0.   ,     0.   ,     0.   ,     0.   ,     0.   ,     0.   ,\n",
       "           0.   ,     0.   ,     0.   ,     0.   ,     0.   ,     0.   ,\n",
       "           0.   ,     0.   , -4194.304,     0.   ])"
      ]
     },
     "execution_count": 15,
     "metadata": {},
     "output_type": "execute_result"
    }
   ],
   "source": [
    "RHS[:,-2]"
   ]
  },
  {
   "cell_type": "code",
   "execution_count": null,
   "metadata": {},
   "outputs": [],
   "source": [
    "adap_uv(u, v, F, G, p, imax, jmax, delt, delx, dely)"
   ]
  },
  {
   "cell_type": "code",
   "execution_count": null,
   "metadata": {},
   "outputs": [],
   "source": [
    "# time step\n",
    "set_b_cond(u, v, imax, jmax, wW, wE, wN, wS)\n",
    "u[:, jmax + 1] = 2.0 * u_lid - u[:, jmax]\n",
    "v[:, jmax + 1] = 0\n",
    "\n",
    "F = np.empty_like(u)\n",
    "G = np.empty_like(u)\n",
    "RHS = np.empty_like(u)\n",
    "res = np.empty_like(RHS)\n",
    "\n",
    "comp_fg(u, v, F, G, imax, jmax, delt, delx, dely, GX, GY, gamma, Re)\n",
    "comp_rhs(F, G, RHS, imax, jmax, delt, delx, dely)\n",
    "it, res_norm = poisson(p, RHS, imax, jmax, delx, dely, eps, itermax, omg, res)\n",
    "adap_uv(u, v, F, G, p, imax, jmax, delt, delx, dely)"
   ]
  },
  {
   "cell_type": "code",
   "execution_count": null,
   "metadata": {},
   "outputs": [],
   "source": []
  }
 ],
 "metadata": {
  "kernelspec": {
   "display_name": "env",
   "language": "python",
   "name": "python3"
  },
  "language_info": {
   "codemirror_mode": {
    "name": "ipython",
    "version": 3
   },
   "file_extension": ".py",
   "mimetype": "text/x-python",
   "name": "python",
   "nbconvert_exporter": "python",
   "pygments_lexer": "ipython3",
   "version": "3.12.3"
  }
 },
 "nbformat": 4,
 "nbformat_minor": 2
}
